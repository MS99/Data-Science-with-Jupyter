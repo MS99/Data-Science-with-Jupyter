{
 "cells": [
  {
   "cell_type": "code",
   "execution_count": 1,
   "metadata": {},
   "outputs": [
    {
     "data": {
      "text/plain": [
       "list"
      ]
     },
     "execution_count": 1,
     "metadata": {},
     "output_type": "execute_result"
    }
   ],
   "source": [
    "height = []\n",
    "type(height)"
   ]
  },
  {
   "cell_type": "code",
   "execution_count": 2,
   "metadata": {},
   "outputs": [
    {
     "name": "stdout",
     "output_type": "stream",
     "text": [
      "python is very easy to learn for Data Science\n",
      "c is the first language I have learnt\n",
      "java is difficult to learn for Data Science\n"
     ]
    }
   ],
   "source": [
    "lang = ['python', 'c', 'java']\n",
    "print(lang[0] + ' is very easy to learn for Data Science')\n",
    "print(lang[1] + ' is the first language I have learnt')\n",
    "print(lang[2] + ' is difficult to learn for Data Science')\n"
   ]
  },
  {
   "cell_type": "code",
   "execution_count": 3,
   "metadata": {},
   "outputs": [
    {
     "name": "stdout",
     "output_type": "stream",
     "text": [
      "tuple example:  ('CS', 'IT', 'EC', 'ME')\n",
      "data type of the example is <class 'tuple'>\n"
     ]
    }
   ],
   "source": [
    "tuple_example = ('CS', 'IT', 'EC', 'ME')\n",
    "print('tuple example: ', tuple_example)\n",
    "print('data type of the example is', type(tuple_example))"
   ]
  },
  {
   "cell_type": "code",
   "execution_count": 4,
   "metadata": {},
   "outputs": [
    {
     "name": "stdout",
     "output_type": "stream",
     "text": [
      "dictionary example:  {'brand': 'Hyundai', 'model': 'Creta', 'type': 'SUV', 'year': '2017'}\n"
     ]
    }
   ],
   "source": [
    "dict_example = {\n",
    "    'brand': 'Hyundai',\n",
    "    'model': 'Creta',\n",
    "    'type' : 'SUV',\n",
    "    'year': '2017'\n",
    "}\n",
    "print(\"dictionary example: \", dict_example)"
   ]
  },
  {
   "cell_type": "code",
   "execution_count": 6,
   "metadata": {},
   "outputs": [
    {
     "name": "stdout",
     "output_type": "stream",
     "text": [
      "car brand by key: Hyundai\n",
      "car brand by method: Hyundai\n"
     ]
    }
   ],
   "source": [
    "# access the brand value by\n",
    "car_brand_by_key = dict_example['brand']\n",
    "print(\"car brand by key:\", car_brand_by_key)\n",
    "# access the brand value by get()\n",
    "print(\"car brand by method:\" , dict_example.get('brand'))"
   ]
  },
  {
   "cell_type": "code",
   "execution_count": 8,
   "metadata": {},
   "outputs": [
    {
     "name": "stdout",
     "output_type": "stream",
     "text": [
      "elements in the list:  3\n"
     ]
    }
   ],
   "source": [
    "language_list = ['python', 'c', 'cobol']\n",
    "print(\"elements in the list: \", len(language_list))"
   ]
  },
  {
   "cell_type": "code",
   "execution_count": 10,
   "metadata": {},
   "outputs": [
    {
     "name": "stdout",
     "output_type": "stream",
     "text": [
      "updated list is:  ['python', 'c', 'cobol', 'java']\n"
     ]
    }
   ],
   "source": [
    "# add new items using .append()\n",
    "language_list = ['python', 'c', 'cobol']\n",
    "language_list.append('java')\n",
    "print(\"updated list is: \", language_list)\n"
   ]
  },
  {
   "cell_type": "code",
   "execution_count": 11,
   "metadata": {},
   "outputs": [
    {
     "name": "stdout",
     "output_type": "stream",
     "text": [
      "modified list is:  ['python', 'c', '.net', 'cobol', 'java']\n"
     ]
    }
   ],
   "source": [
    "# add new items with a specific position\n",
    "language_list = ['python', 'c', 'cobol', 'java']\n",
    "language_list.insert(2, '.net')\n",
    "print(\"modified list is: \", language_list)\n"
   ]
  },
  {
   "cell_type": "code",
   "execution_count": 12,
   "metadata": {},
   "outputs": [
    {
     "name": "stdout",
     "output_type": "stream",
     "text": [
      "updated list: ['python', 'c', '.net', 'java']\n",
      "latest list: ['python', 'c', '.net']\n"
     ]
    }
   ],
   "source": [
    "language_list = ['python', 'c', '.net', 'cobol', 'java']\n",
    "# remove element by name\n",
    "language_list.remove('cobol')\n",
    "print(\"updated list:\", language_list)\n",
    "# remove element by index\n",
    "language_list.pop(3)\n",
    "print(\"latest list:\" , language_list)"
   ]
  },
  {
   "cell_type": "code",
   "execution_count": 13,
   "metadata": {},
   "outputs": [
    {
     "name": "stdout",
     "output_type": "stream",
     "text": [
      "list after remove() example:  [1, 2, 3, 1]\n",
      "list after pop() example:  [1, 2, 3, 4]\n",
      "list after del() example:  [1, 2, 3, 4]\n"
     ]
    }
   ],
   "source": [
    "# remove(), del(), pop()\n",
    "number_list = [1,2,3,4,1]\n",
    "number_list.remove(4)\n",
    "print(\"list after remove() example: \", number_list)\n",
    "\n",
    "number_list = [1,2,3,4,1]\n",
    "number_list.pop(4)\n",
    "print(\"list after pop() example: \", number_list)\n",
    "\n",
    "number_list = [1,2,3,4,1]\n",
    "del(number_list[4])\n",
    "print(\"list after del() example: \", number_list)"
   ]
  },
  {
   "cell_type": "code",
   "execution_count": 14,
   "metadata": {},
   "outputs": [
    {
     "name": "stdout",
     "output_type": "stream",
     "text": [
      "sort in ascending order:  ['.net', 'c', 'cobol', 'java', 'python']\n",
      "sort in descending order:  ['python', 'java', 'cobol', 'c', '.net']\n"
     ]
    }
   ],
   "source": [
    "# sorting list\n",
    "language_list = ['python', 'c', '.net', 'cobol', 'java']\n",
    "language_list.sort()\n",
    "print(\"sort in ascending order: \", language_list)\n",
    "language_list = ['python', 'c', '.net', 'cobol', 'java']\n",
    "language_list.sort(reverse=True)\n",
    "print(\"sort in descending order: \", language_list)"
   ]
  },
  {
   "cell_type": "code",
   "execution_count": 15,
   "metadata": {},
   "outputs": [
    {
     "name": "stdout",
     "output_type": "stream",
     "text": [
      "tuple example:  ('CS', 'IT', 'EC', 'ME')\n",
      "data type of the example is  <class 'tuple'>\n"
     ]
    }
   ],
   "source": [
    "# Tuples are initialized with (), tuples are immmutable means cannot change or delete\n",
    "# there is no append(), or remove(), or pop() methods in tuples\n",
    "tuple_example = ('CS', 'IT', 'EC', 'ME')\n",
    "print(\"tuple example: \", tuple_example)\n",
    "print(\"data type of the example is \", type(tuple_example))"
   ]
  },
  {
   "cell_type": "code",
   "execution_count": 16,
   "metadata": {},
   "outputs": [
    {
     "name": "stdout",
     "output_type": "stream",
     "text": [
      "dictionary example :  {'brand': 'Hyundai', 'model': 'Santa Fe', 'type': 'SUV', 'year': '2019'}\n"
     ]
    }
   ],
   "source": [
    "# Dictionary is a collection is unordered and defining value in {} curly bracket\n",
    "dict_example = {\n",
    "    'brand': 'Hyundai',\n",
    "    'model': 'Santa Fe',\n",
    "    'type': 'SUV',\n",
    "    'year': '2019'\n",
    "}\n",
    "print(\"dictionary example : \", dict_example)"
   ]
  },
  {
   "cell_type": "code",
   "execution_count": 19,
   "metadata": {},
   "outputs": [
    {
     "name": "stdout",
     "output_type": "stream",
     "text": [
      "car brand by key :  Hyundai\n",
      "car brand by key :  Hyundai\n"
     ]
    }
   ],
   "source": [
    "# access the brand value by key\n",
    "car_brand_by_key = dict_example['brand']\n",
    "print(\"car brand by key : \", car_brand_by_key)\n",
    "# access brand value by get\n",
    "print(\"car brand by key : \", dict_example.get('brand'))"
   ]
  },
  {
   "cell_type": "code",
   "execution_count": 20,
   "metadata": {},
   "outputs": [
    {
     "name": "stdout",
     "output_type": "stream",
     "text": [
      "update dict:  {'brand': 'Hyundai', 'model': 'Santa Fe', 'type': 'SUV', 'year': '2018'}\n"
     ]
    }
   ],
   "source": [
    "dict_example['year'] = '2018'\n",
    "print(\"update dict: \", dict_example)"
   ]
  },
  {
   "cell_type": "code",
   "execution_count": 21,
   "metadata": {},
   "outputs": [
    {
     "name": "stdout",
     "output_type": "stream",
     "text": [
      "key in dict :  brand\n",
      "key in dict :  model\n",
      "key in dict :  type\n",
      "key in dict :  year\n",
      "value in dict :  Hyundai\n",
      "value in dict :  Santa Fe\n",
      "value in dict :  SUV\n",
      "value in dict :  2018\n"
     ]
    }
   ],
   "source": [
    "# printing all keys\n",
    "for car_property in dict_example :\n",
    "    print(\"key in dict : \", car_property)\n",
    "    \n",
    "# printing all value\n",
    "for car_value_property in dict_example.values():\n",
    "    print(\"value in dict : \", car_value_property)"
   ]
  },
  {
   "cell_type": "code",
   "execution_count": 27,
   "metadata": {},
   "outputs": [
    {
     "name": "stdout",
     "output_type": "stream",
     "text": [
      "brand Hyundai\n",
      "model Santa Fe\n",
      "type SUV\n",
      "year 2018\n"
     ]
    }
   ],
   "source": [
    "for car_property, car_value_property in dict_example.items():\n",
    "    print(car_property, car_value_property)"
   ]
  },
  {
   "cell_type": "code",
   "execution_count": null,
   "metadata": {},
   "outputs": [],
   "source": []
  }
 ],
 "metadata": {
  "kernelspec": {
   "display_name": "Python 3",
   "language": "python",
   "name": "python3"
  },
  "language_info": {
   "codemirror_mode": {
    "name": "ipython",
    "version": 3
   },
   "file_extension": ".py",
   "mimetype": "text/x-python",
   "name": "python",
   "nbconvert_exporter": "python",
   "pygments_lexer": "ipython3",
   "version": "3.6.4"
  }
 },
 "nbformat": 4,
 "nbformat_minor": 2
}
